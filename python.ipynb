{
 "cells": [
  {
   "cell_type": "code",
   "execution_count": 1,
   "id": "5b3a5526-1081-4211-bd99-e4e8210dea0a",
   "metadata": {},
   "outputs": [
    {
     "name": "stdout",
     "output_type": "stream",
     "text": [
      "Hello Python world!\n"
     ]
    }
   ],
   "source": [
    "a_string=\"Hello Python world!\"\n",
    "print(a_string)"
   ]
  },
  {
   "cell_type": "code",
   "execution_count": 2,
   "id": "819c4571-d1a6-4fee-994c-2248d68bde58",
   "metadata": {},
   "outputs": [
    {
     "name": "stdout",
     "output_type": "stream",
     "text": [
      "Hello Python Crash Course reader!\n"
     ]
    }
   ],
   "source": [
    "message = \"Hello Python Crash Course reader!\"\n",
    "print(message)\n"
   ]
  },
  {
   "cell_type": "code",
   "execution_count": 5,
   "id": "f850f7be-0526-42ee-b447-fb362af81594",
   "metadata": {},
   "outputs": [
    {
     "name": "stdout",
     "output_type": "stream",
     "text": [
      "Ada Lovelace\n"
     ]
    }
   ],
   "source": [
    "name = \"ada lovelace\"\n",
    "print(name.title())"
   ]
  },
  {
   "cell_type": "code",
   "execution_count": 6,
   "id": "09fa5ced-d2ad-4e0b-a08d-1842c7e59a07",
   "metadata": {},
   "outputs": [
    {
     "name": "stdout",
     "output_type": "stream",
     "text": [
      "ADA LOVELACE\n",
      "ada lovelace\n"
     ]
    }
   ],
   "source": [
    "name = \"Ada Lovelace\"\n",
    "print(name.upper())\n",
    "print(name.lower())"
   ]
  },
  {
   "cell_type": "code",
   "execution_count": 8,
   "id": "be8b3fcd-c874-440a-a80f-5239c1afa9be",
   "metadata": {},
   "outputs": [
    {
     "name": "stdout",
     "output_type": "stream",
     "text": [
      "False\n",
      "ada lovelace\n"
     ]
    }
   ],
   "source": [
    "name = \"Ada Lovelace\"\n",
    "cap_name = name.upper()\n",
    "print(cap_name.islower())\n",
    "print(name.lower())"
   ]
  },
  {
   "cell_type": "code",
   "execution_count": 12,
   "id": "2fbb5441-6d61-4eda-8274-794a0323f30d",
   "metadata": {},
   "outputs": [
    {
     "name": "stdout",
     "output_type": "stream",
     "text": [
      "ada lovelace \n"
     ]
    }
   ],
   "source": [
    "first_name = \"ada\"\n",
    "last_name = \"lovelace\"\n",
    "full_name = f\"{first_name} {last_name} \"\n",
    "print(full_name)"
   ]
  },
  {
   "cell_type": "code",
   "execution_count": 13,
   "id": "29e2619d-dfc6-4e8d-8fe3-b3f62a87f947",
   "metadata": {},
   "outputs": [
    {
     "name": "stdout",
     "output_type": "stream",
     "text": [
      "Hello, Ada Lovelace!\n"
     ]
    }
   ],
   "source": [
    "first_name = \"ada\"\n",
    "last_name = \"lovelace\"\n",
    "full_name = f\"{first_name} {last_name}\"\n",
    "print(f\"Hello, {full_name.title()}!\")"
   ]
  },
  {
   "cell_type": "code",
   "execution_count": 14,
   "id": "2aa7e4de-261c-4bfe-9513-12565564e3a8",
   "metadata": {},
   "outputs": [
    {
     "name": "stdout",
     "output_type": "stream",
     "text": [
      "Hello, Ada Lovelace!\n"
     ]
    }
   ],
   "source": [
    "first_name = \"ada\"\n",
    "last_name = \"lovelace\"\n",
    "full_name = f\"{first_name} {last_name}\"\n",
    "message = f\"Hello, {full_name.title()}!\"\n",
    "print(message)"
   ]
  },
  {
   "cell_type": "code",
   "execution_count": 17,
   "id": "e4685305-21e1-4ee0-9ea7-95e1c268b922",
   "metadata": {},
   "outputs": [
    {
     "name": "stdout",
     "output_type": "stream",
     "text": [
      "ada lovelace\n"
     ]
    }
   ],
   "source": [
    "full_name = \"{} {}\".format(first_name, last_name)\n",
    "print(full_name)"
   ]
  },
  {
   "cell_type": "code",
   "execution_count": 18,
   "id": "03f9d86d-6eed-4380-a21b-8ee8f7f32e0b",
   "metadata": {},
   "outputs": [
    {
     "name": "stdout",
     "output_type": "stream",
     "text": [
      "Languages:\n",
      "\tPython\n",
      "\tC\n",
      "\tJavaScript\n"
     ]
    }
   ],
   "source": [
    "print(\"Languages:\\n\\tPython\\n\\tC\\n\\tJavaScript\")"
   ]
  },
  {
   "cell_type": "code",
   "execution_count": 22,
   "id": "ed624754-ce41-4817-b1e9-5bd5a9681bdf",
   "metadata": {},
   "outputs": [
    {
     "data": {
      "text/plain": [
       "'python'"
      ]
     },
     "execution_count": 22,
     "metadata": {},
     "output_type": "execute_result"
    }
   ],
   "source": [
    "favorite_language = 'python '\n",
    "favorite_language = favorite_language.rstrip()\n",
    "favorite_language"
   ]
  },
  {
   "cell_type": "code",
   "execution_count": 24,
   "id": "979f7703-99b2-4fe7-a138-8b60620e5c3f",
   "metadata": {},
   "outputs": [
    {
     "name": "stdout",
     "output_type": "stream",
     "text": [
      "One of Python\"s strengths is its diverse community.\n"
     ]
    }
   ],
   "source": [
    "message = 'One of Python's strengths is its diverse community.'\n",
    "print(message)"
   ]
  },
  {
   "cell_type": "code",
   "execution_count": 26,
   "id": "3a95ef87-6500-453e-ae2e-4e5b8a6ac171",
   "metadata": {},
   "outputs": [
    {
     "name": "stdout",
     "output_type": "stream",
     "text": [
      "One of Python\"s strengths is its diverse community.\n"
     ]
    }
   ],
   "source": [
    "#hi there for strig syntax example\n",
    "message = 'One of Python\"s strengths is its diverse community.'\n",
    "print(message)"
   ]
  },
  {
   "cell_type": "code",
   "execution_count": 31,
   "id": "aea9011d-3b02-4c63-a35f-5cb8fd72bfad",
   "metadata": {},
   "outputs": [
    {
     "name": "stdout",
     "output_type": "stream",
     "text": [
      "hi\n"
     ]
    }
   ],
   "source": [
    "\"\"\"\n",
    "This is a comment\n",
    "written in\n",
    "more than just one line\n",
    "\"\"\"\n",
    "print(\"hi\")"
   ]
  },
  {
   "cell_type": "code",
   "execution_count": 32,
   "id": "5f64eff8-1f52-4518-85c1-ec0390a9a7a1",
   "metadata": {},
   "outputs": [
    {
     "name": "stdout",
     "output_type": "stream",
     "text": [
      "After swapping:\n",
      "num1 = 10\n",
      "num2 = 5\n"
     ]
    }
   ],
   "source": [
    "def swap_numbers(a, b):\n",
    "    temp = a\n",
    "    a = b\n",
    "    b = temp\n",
    "    return a, b\n",
    "\n",
    "# Example usage:\n",
    "num1 = 5\n",
    "num2 = 10\n",
    "num1, num2 = swap_numbers(num1, num2)\n",
    "print(\"After swapping:\")\n",
    "print(\"num1 =\", num1)\n",
    "print(\"num2 =\", num2)\n"
   ]
  },
  {
   "cell_type": "code",
   "execution_count": 33,
   "id": "e250bbcc-aad4-43dd-bdbe-35d800852ab3",
   "metadata": {},
   "outputs": [
    {
     "name": "stdout",
     "output_type": "stream",
     "text": [
      "After swapping:\n",
      "num1 = 10\n",
      "num2 = 5\n"
     ]
    }
   ],
   "source": [
    "def swap_numbers(a, b):\n",
    "    # Store the value of 'a' in a temporary variable\n",
    "    temp = a\n",
    "    # Assign the value of 'b' to 'a'\n",
    "    a = b\n",
    "    # Assign the value stored in the temporary variable to 'b'\n",
    "    b = temp\n",
    "    # Return the swapped values of 'a' and 'b'\n",
    "    return a, b\n",
    "\n",
    "# Example usage:\n",
    "num1 = 5\n",
    "num2 = 10\n",
    "# Call the function to swap the numbers\n",
    "num1, num2 = swap_numbers(num1, num2)\n",
    "print(\"After swapping:\")\n",
    "print(\"num1 =\", num1)\n",
    "print(\"num2 =\", num2)\n"
   ]
  },
  {
   "cell_type": "code",
   "execution_count": null,
   "id": "03aff24e-92e5-4e7d-974c-cd6774f8c8c9",
   "metadata": {},
   "outputs": [],
   "source": []
  }
 ],
 "metadata": {
  "kernelspec": {
   "display_name": "Python 3 (ipykernel)",
   "language": "python",
   "name": "python3"
  },
  "language_info": {
   "codemirror_mode": {
    "name": "ipython",
    "version": 3
   },
   "file_extension": ".py",
   "mimetype": "text/x-python",
   "name": "python",
   "nbconvert_exporter": "python",
   "pygments_lexer": "ipython3",
   "version": "3.11.6"
  }
 },
 "nbformat": 4,
 "nbformat_minor": 5
}
